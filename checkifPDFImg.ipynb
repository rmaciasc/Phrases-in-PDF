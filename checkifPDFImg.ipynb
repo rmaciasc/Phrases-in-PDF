{
 "metadata": {
  "language_info": {
   "codemirror_mode": {
    "name": "ipython",
    "version": 3
   },
   "file_extension": ".py",
   "mimetype": "text/x-python",
   "name": "python",
   "nbconvert_exporter": "python",
   "pygments_lexer": "ipython3",
   "version": "3.8.6-final"
  },
  "orig_nbformat": 2,
  "kernelspec": {
   "name": "python3",
   "display_name": "Python 3"
  }
 },
 "nbformat": 4,
 "nbformat_minor": 2,
 "cells": [
  {
   "cell_type": "code",
   "execution_count": 1,
   "metadata": {},
   "outputs": [],
   "source": [
    "import pandas as pd\n",
    "import os \n",
    "import fitz\n",
    "import re"
   ]
  },
  {
   "cell_type": "code",
   "execution_count": 2,
   "metadata": {},
   "outputs": [],
   "source": [
    "dir = os.getcwd()\n",
    "dir = os.path.join(dir, 'CNDHnotText')"
   ]
  },
  {
   "cell_type": "code",
   "execution_count": 3,
   "metadata": {
    "tags": []
   },
   "outputs": [],
   "source": [
    "dic = {\n",
    "    \"Title\": [],\n",
    "    \"Type\": [],\n",
    "    'Phrase': [],\n",
    "    \"Times Found\": []\n",
    "}\n",
    "    \n",
    "errorsDic = []\n",
    "\n",
    "frase = 'bando'\n",
    "\n",
    "for foldername, subfolders, files in os.walk(os.path.join(dir)):\n",
    "    for file in files:\n",
    "        try:\n",
    "            object = fitz.open(os.path.join(foldername, file))\n",
    "            i = 0\n",
    "            # print(file)\n",
    "            text = ''\n",
    "            for page in object:\n",
    "                # text += page.getText('text')\n",
    "                i += 1\n",
    "            # print(text)\n",
    "                if page.searchFor(frase):\n",
    "                    # print(len(re.findall(frase, text, re.IGNORECASE)))\n",
    "                    # print('Pattern ' + frase.upper() + ' found on page: ' + str(i))\n",
    "                    dic['Title'].append(file)\n",
    "                    dic['Type'].append('Text')\n",
    "                    dic['Times Found'].append(i)\n",
    "                    dic['Phrase'].append(frase.upper())\n",
    "                else:\n",
    "                    # print('File contains imgs')\n",
    "                    dic['Title'].append(file)\n",
    "                    dic['Type'].append('Scanned')\n",
    "                    dic['Phrase'].append(frase.upper())\n",
    "                    dic['Times Found'].append(0)\n",
    "\n",
    "        except:\n",
    "            errorsDic.append(file)\n",
    "            pass"
   ]
  },
  {
   "cell_type": "code",
   "execution_count": 4,
   "metadata": {},
   "outputs": [
    {
     "output_type": "execute_result",
     "data": {
      "text/plain": [
       "[]"
      ]
     },
     "metadata": {},
     "execution_count": 4
    }
   ],
   "source": [
    "errorsDic"
   ]
  },
  {
   "cell_type": "code",
   "execution_count": 5,
   "metadata": {},
   "outputs": [
    {
     "output_type": "execute_result",
     "data": {
      "text/plain": [
       "                         Title     Type Phrase  Times Found\n",
       "0        Bando_BCS_Comondu.pdf  Scanned  BANDO            0\n",
       "1        Bando_BCS_Comondu.pdf  Scanned  BANDO            0\n",
       "2        Bando_BCS_Comondu.pdf  Scanned  BANDO            0\n",
       "3        Bando_BCS_Comondu.pdf  Scanned  BANDO            0\n",
       "4        Bando_BCS_Comondu.pdf  Scanned  BANDO            0\n",
       "...                        ...      ...    ...          ...\n",
       "4897    BANDO-ZAC-TRINIDAD.pdf     Text  BANDO            6\n",
       "4898    BANDO-ZAC-TRINIDAD.pdf  Scanned  BANDO            0\n",
       "4899    BANDO-ZAC-TRINIDAD.pdf     Text  BANDO            8\n",
       "4900  BANDO-ZAC-VILLADECOS.pdf     Text  BANDO            1\n",
       "4901  BANDO-ZAC-VILLADECOS.pdf  Scanned  BANDO            0\n",
       "\n",
       "[4902 rows x 4 columns]"
      ],
      "text/html": "<div>\n<style scoped>\n    .dataframe tbody tr th:only-of-type {\n        vertical-align: middle;\n    }\n\n    .dataframe tbody tr th {\n        vertical-align: top;\n    }\n\n    .dataframe thead th {\n        text-align: right;\n    }\n</style>\n<table border=\"1\" class=\"dataframe\">\n  <thead>\n    <tr style=\"text-align: right;\">\n      <th></th>\n      <th>Title</th>\n      <th>Type</th>\n      <th>Phrase</th>\n      <th>Times Found</th>\n    </tr>\n  </thead>\n  <tbody>\n    <tr>\n      <th>0</th>\n      <td>Bando_BCS_Comondu.pdf</td>\n      <td>Scanned</td>\n      <td>BANDO</td>\n      <td>0</td>\n    </tr>\n    <tr>\n      <th>1</th>\n      <td>Bando_BCS_Comondu.pdf</td>\n      <td>Scanned</td>\n      <td>BANDO</td>\n      <td>0</td>\n    </tr>\n    <tr>\n      <th>2</th>\n      <td>Bando_BCS_Comondu.pdf</td>\n      <td>Scanned</td>\n      <td>BANDO</td>\n      <td>0</td>\n    </tr>\n    <tr>\n      <th>3</th>\n      <td>Bando_BCS_Comondu.pdf</td>\n      <td>Scanned</td>\n      <td>BANDO</td>\n      <td>0</td>\n    </tr>\n    <tr>\n      <th>4</th>\n      <td>Bando_BCS_Comondu.pdf</td>\n      <td>Scanned</td>\n      <td>BANDO</td>\n      <td>0</td>\n    </tr>\n    <tr>\n      <th>...</th>\n      <td>...</td>\n      <td>...</td>\n      <td>...</td>\n      <td>...</td>\n    </tr>\n    <tr>\n      <th>4897</th>\n      <td>BANDO-ZAC-TRINIDAD.pdf</td>\n      <td>Text</td>\n      <td>BANDO</td>\n      <td>6</td>\n    </tr>\n    <tr>\n      <th>4898</th>\n      <td>BANDO-ZAC-TRINIDAD.pdf</td>\n      <td>Scanned</td>\n      <td>BANDO</td>\n      <td>0</td>\n    </tr>\n    <tr>\n      <th>4899</th>\n      <td>BANDO-ZAC-TRINIDAD.pdf</td>\n      <td>Text</td>\n      <td>BANDO</td>\n      <td>8</td>\n    </tr>\n    <tr>\n      <th>4900</th>\n      <td>BANDO-ZAC-VILLADECOS.pdf</td>\n      <td>Text</td>\n      <td>BANDO</td>\n      <td>1</td>\n    </tr>\n    <tr>\n      <th>4901</th>\n      <td>BANDO-ZAC-VILLADECOS.pdf</td>\n      <td>Scanned</td>\n      <td>BANDO</td>\n      <td>0</td>\n    </tr>\n  </tbody>\n</table>\n<p>4902 rows × 4 columns</p>\n</div>"
     },
     "metadata": {},
     "execution_count": 5
    }
   ],
   "source": [
    "df = pd.DataFrame(dic)\n",
    "df"
   ]
  },
  {
   "cell_type": "code",
   "execution_count": 6,
   "metadata": {},
   "outputs": [
    {
     "output_type": "execute_result",
     "data": {
      "text/plain": [
       "                                     Title  Times Found     Type\n",
       "0                   BANDO-JAL-ATEMAJAC.pdf            0  Scanned\n",
       "1                BANDO-JAL-Aototonilco.pdf            0  Scanned\n",
       "2    BANDO-JAL-La Manzanilla de la Paz.pdf            0  Scanned\n",
       "3                    BANDO-JAL-OCOTLAN.pdf            0  Scanned\n",
       "4       BANDO-JAL-SANSEBASTIANDELOESTE.pdf            0  Scanned\n",
       "..                                     ...          ...      ...\n",
       "146       REGLAMENTOINT_CHI_FRANCISCOL.pdf            4     Text\n",
       "147           REGLAMENTOSEG-JAL-TONILA.pdf            0  Scanned\n",
       "148              REGLAMENTO_NAY_TUXPAN.pdf            0  Scanned\n",
       "149             REGLAMENTO_NAY_XALISCO.pdf            0  Scanned\n",
       "150                   TBANDO_YUCA_EABO.pdf            0  Scanned\n",
       "\n",
       "[151 rows x 3 columns]"
      ],
      "text/html": "<div>\n<style scoped>\n    .dataframe tbody tr th:only-of-type {\n        vertical-align: middle;\n    }\n\n    .dataframe tbody tr th {\n        vertical-align: top;\n    }\n\n    .dataframe thead th {\n        text-align: right;\n    }\n</style>\n<table border=\"1\" class=\"dataframe\">\n  <thead>\n    <tr style=\"text-align: right;\">\n      <th></th>\n      <th>Title</th>\n      <th>Times Found</th>\n      <th>Type</th>\n    </tr>\n  </thead>\n  <tbody>\n    <tr>\n      <th>0</th>\n      <td>BANDO-JAL-ATEMAJAC.pdf</td>\n      <td>0</td>\n      <td>Scanned</td>\n    </tr>\n    <tr>\n      <th>1</th>\n      <td>BANDO-JAL-Aototonilco.pdf</td>\n      <td>0</td>\n      <td>Scanned</td>\n    </tr>\n    <tr>\n      <th>2</th>\n      <td>BANDO-JAL-La Manzanilla de la Paz.pdf</td>\n      <td>0</td>\n      <td>Scanned</td>\n    </tr>\n    <tr>\n      <th>3</th>\n      <td>BANDO-JAL-OCOTLAN.pdf</td>\n      <td>0</td>\n      <td>Scanned</td>\n    </tr>\n    <tr>\n      <th>4</th>\n      <td>BANDO-JAL-SANSEBASTIANDELOESTE.pdf</td>\n      <td>0</td>\n      <td>Scanned</td>\n    </tr>\n    <tr>\n      <th>...</th>\n      <td>...</td>\n      <td>...</td>\n      <td>...</td>\n    </tr>\n    <tr>\n      <th>146</th>\n      <td>REGLAMENTOINT_CHI_FRANCISCOL.pdf</td>\n      <td>4</td>\n      <td>Text</td>\n    </tr>\n    <tr>\n      <th>147</th>\n      <td>REGLAMENTOSEG-JAL-TONILA.pdf</td>\n      <td>0</td>\n      <td>Scanned</td>\n    </tr>\n    <tr>\n      <th>148</th>\n      <td>REGLAMENTO_NAY_TUXPAN.pdf</td>\n      <td>0</td>\n      <td>Scanned</td>\n    </tr>\n    <tr>\n      <th>149</th>\n      <td>REGLAMENTO_NAY_XALISCO.pdf</td>\n      <td>0</td>\n      <td>Scanned</td>\n    </tr>\n    <tr>\n      <th>150</th>\n      <td>TBANDO_YUCA_EABO.pdf</td>\n      <td>0</td>\n      <td>Scanned</td>\n    </tr>\n  </tbody>\n</table>\n<p>151 rows × 3 columns</p>\n</div>"
     },
     "metadata": {},
     "execution_count": 6
    }
   ],
   "source": [
    "imgCheck = df.groupby('Title').agg({'Times Found': 'max'}).reset_index()\n",
    "imgCheck['Type'] = imgCheck['Times Found'].apply(lambda x: 'Text' if (x > 1) else 'Scanned')\n",
    "imgCheck"
   ]
  },
  {
   "cell_type": "code",
   "execution_count": 7,
   "metadata": {},
   "outputs": [],
   "source": [
    "imgCheck.to_csv('./Results/imgChecks.csv', index= False, encoding='utf-8-sig')"
   ]
  },
  {
   "cell_type": "code",
   "execution_count": null,
   "metadata": {},
   "outputs": [],
   "source": [
    "# No funciona pero puedes correr el script original de nuevo y si encuentra 'artículo' que lo marque y asi ya sabes si es texto."
   ]
  }
 ]
}