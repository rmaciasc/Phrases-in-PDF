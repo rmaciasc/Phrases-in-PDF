{
 "metadata": {
  "language_info": {
   "codemirror_mode": {
    "name": "ipython",
    "version": 3
   },
   "file_extension": ".py",
   "mimetype": "text/x-python",
   "name": "python",
   "nbconvert_exporter": "python",
   "pygments_lexer": "ipython3",
   "version": "3.8.6-final"
  },
  "orig_nbformat": 2,
  "kernelspec": {
   "name": "python3",
   "display_name": "Python 3"
  }
 },
 "nbformat": 4,
 "nbformat_minor": 2,
 "cells": [
  {
   "cell_type": "code",
   "execution_count": 37,
   "metadata": {},
   "outputs": [],
   "source": [
    "import pandas as pd\n",
    "import os \n",
    "import fitz\n",
    "import re"
   ]
  },
  {
   "cell_type": "code",
   "execution_count": 38,
   "metadata": {},
   "outputs": [],
   "source": [
    "dir = os.getcwd()\n",
    "dir = os.path.join(dir, 'CNDHnotText')"
   ]
  },
  {
   "cell_type": "code",
   "execution_count": 39,
   "metadata": {
    "tags": []
   },
   "outputs": [],
   "source": [
    "dic = {\n",
    "    \"Title\": [],\n",
    "    \"Type\": [],\n",
    "    'Phrase': [],\n",
    "    \"Times Found\": []\n",
    "}\n",
    "\n",
    "errorsDic = []\n",
    "\n",
    "frase = 'bando'\n",
    "\n",
    "for foldername, subfolders, files in os.walk(os.path.join(dir)):\n",
    "    for file in files:\n",
    "        try:\n",
    "            object = fitz.open(os.path.join(foldername, file))\n",
    "            i = 0\n",
    "            # print(file)\n",
    "            text = ''\n",
    "            for page in object:\n",
    "                # text += page.getText('text')\n",
    "                i += 1\n",
    "            # print(text)\n",
    "                if page.searchFor(frase):\n",
    "                    # print(len(re.findall(frase, text, re.IGNORECASE)))\n",
    "                    # print('Pattern ' + frase.upper() + ' found on page: ' + str(i))\n",
    "                    dic['Title'].append(file)\n",
    "                    dic['Type'].append('Text')\n",
    "                    dic['Times Found'].append(i)\n",
    "                    dic['Phrase'].append(frase.upper())\n",
    "                else:\n",
    "                    # print('File contains imgs')\n",
    "                    dic['Title'].append(file)\n",
    "                    dic['Type'].append('Scanned')\n",
    "                    dic['Phrase'].append(frase.upper())\n",
    "                    dic['Times Found'].append(0)\n",
    "\n",
    "        except:\n",
    "            errorsDic.append(file)\n",
    "            pass"
   ]
  },
  {
   "cell_type": "code",
   "execution_count": 40,
   "metadata": {},
   "outputs": [
    {
     "output_type": "execute_result",
     "data": {
      "text/plain": [
       "[]"
      ]
     },
     "metadata": {},
     "execution_count": 40
    }
   ],
   "source": [
    "errorsDic"
   ]
  },
  {
   "cell_type": "code",
   "execution_count": 41,
   "metadata": {},
   "outputs": [],
   "source": [
    "df = pd.DataFrame(dic)"
   ]
  },
  {
   "cell_type": "code",
   "execution_count": 42,
   "metadata": {},
   "outputs": [
    {
     "output_type": "execute_result",
     "data": {
      "text/plain": [
       "                                                Title  Times Found     Type\n",
       "0    2_JPAL_Workshop_Theory and Measurement_MAbel.pdf            0  Scanned\n",
       "1                    BANDO-OAX-ASUNCIONCUYOTEPEJI.pdf            1  Scanned\n",
       "2                           BANDO-OAX-ASUNCIONOCH.pdf            0  Scanned\n",
       "3                     BANDO-OAX-CAPULAPAMDEMENDEZ.pdf            1  Scanned\n",
       "4                         BANDO-OAX-CIUDADIXTEPEC.pdf            1  Scanned\n",
       "..                                                ...          ...      ...\n",
       "324                   REGLAMENTOPOL-GTO-SALAMANCA.pdf            4     Text\n",
       "325                       REGLAMENTOPOL-GTO-VALLE.pdf           20     Text\n",
       "326                         REGLAMENTO_NAY_TUXPAN.pdf            0  Scanned\n",
       "327                        REGLAMENTO_NAY_XALISCO.pdf            0  Scanned\n",
       "328                              TBANDO_YUCA_EABO.pdf            0  Scanned\n",
       "\n",
       "[329 rows x 3 columns]"
      ],
      "text/html": "<div>\n<style scoped>\n    .dataframe tbody tr th:only-of-type {\n        vertical-align: middle;\n    }\n\n    .dataframe tbody tr th {\n        vertical-align: top;\n    }\n\n    .dataframe thead th {\n        text-align: right;\n    }\n</style>\n<table border=\"1\" class=\"dataframe\">\n  <thead>\n    <tr style=\"text-align: right;\">\n      <th></th>\n      <th>Title</th>\n      <th>Times Found</th>\n      <th>Type</th>\n    </tr>\n  </thead>\n  <tbody>\n    <tr>\n      <th>0</th>\n      <td>2_JPAL_Workshop_Theory and Measurement_MAbel.pdf</td>\n      <td>0</td>\n      <td>Scanned</td>\n    </tr>\n    <tr>\n      <th>1</th>\n      <td>BANDO-OAX-ASUNCIONCUYOTEPEJI.pdf</td>\n      <td>1</td>\n      <td>Scanned</td>\n    </tr>\n    <tr>\n      <th>2</th>\n      <td>BANDO-OAX-ASUNCIONOCH.pdf</td>\n      <td>0</td>\n      <td>Scanned</td>\n    </tr>\n    <tr>\n      <th>3</th>\n      <td>BANDO-OAX-CAPULAPAMDEMENDEZ.pdf</td>\n      <td>1</td>\n      <td>Scanned</td>\n    </tr>\n    <tr>\n      <th>4</th>\n      <td>BANDO-OAX-CIUDADIXTEPEC.pdf</td>\n      <td>1</td>\n      <td>Scanned</td>\n    </tr>\n    <tr>\n      <th>...</th>\n      <td>...</td>\n      <td>...</td>\n      <td>...</td>\n    </tr>\n    <tr>\n      <th>324</th>\n      <td>REGLAMENTOPOL-GTO-SALAMANCA.pdf</td>\n      <td>4</td>\n      <td>Text</td>\n    </tr>\n    <tr>\n      <th>325</th>\n      <td>REGLAMENTOPOL-GTO-VALLE.pdf</td>\n      <td>20</td>\n      <td>Text</td>\n    </tr>\n    <tr>\n      <th>326</th>\n      <td>REGLAMENTO_NAY_TUXPAN.pdf</td>\n      <td>0</td>\n      <td>Scanned</td>\n    </tr>\n    <tr>\n      <th>327</th>\n      <td>REGLAMENTO_NAY_XALISCO.pdf</td>\n      <td>0</td>\n      <td>Scanned</td>\n    </tr>\n    <tr>\n      <th>328</th>\n      <td>TBANDO_YUCA_EABO.pdf</td>\n      <td>0</td>\n      <td>Scanned</td>\n    </tr>\n  </tbody>\n</table>\n<p>329 rows × 3 columns</p>\n</div>"
     },
     "metadata": {},
     "execution_count": 42
    }
   ],
   "source": [
    "imgCheck = df.groupby('Title').agg({'Times Found': 'max'}).reset_index()\n",
    "imgCheck['Type'] = imgCheck['Times Found'].apply(lambda x: 'Text' if (x > 1) else 'Scanned')\n",
    "imgCheck"
   ]
  },
  {
   "cell_type": "code",
   "execution_count": 44,
   "metadata": {},
   "outputs": [],
   "source": [
    "imgCheck.to_csv('./Results/imgChecks.csv', index= False, encoding='utf-8-sig')"
   ]
  },
  {
   "cell_type": "code",
   "execution_count": null,
   "metadata": {},
   "outputs": [],
   "source": [
    "# No funciona pero puedes correr el script original de nuevo y si encuentra 'artículo' que lo marque y asi ya sabes si es texto."
   ]
  }
 ]
}